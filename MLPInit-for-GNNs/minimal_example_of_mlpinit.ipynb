{
 "cells": [
  {
   "attachments": {},
   "cell_type": "markdown",
   "metadata": {},
   "source": [
    "[![Open In Colab](https://colab.research.google.com/assets/colab-badge.svg)](https://colab.research.google.com/github/snap-research/MLPInit-for-GNNs/blob/main/minimal_example_of_mlpinit.ipynb)"
   ]
  },
  {
   "cell_type": "code",
   "execution_count": null,
   "metadata": {},
   "outputs": [],
   "source": [
    "! pip uninstall -y torch\n",
    "! pip uninstall -y torchvision torchtext torchdata torchaudio fastai"
   ]
  },
  {
   "cell_type": "code",
   "execution_count": null,
   "metadata": {},
   "outputs": [],
   "source": [
    "! pip install torch==1.9.0+cu111 -f https://download.pytorch.org/whl/torch_stable.html\n",
    "! pip install https://data.pyg.org/whl/torch-1.9.0%2Bcu111/torch_scatter-2.0.9-cp39-cp39-linux_x86_64.whl\n",
    "! pip install https://data.pyg.org/whl/torch-1.9.0%2Bcu111/torch_sparse-0.6.12-cp39-cp39-linux_x86_64.whl\n",
    "! pip install torch-geometric==2.0.4\n",
    "! pip install ogb==1.3.3"
   ]
  },
  {
   "cell_type": "code",
   "execution_count": 2,
   "metadata": {},
   "outputs": [
    {
     "name": "stderr",
     "output_type": "stream",
     "text": [
      "WARNING:root:The OGB package is out of date. Your version is 1.3.3, while the latest version is 1.3.5.\n",
      "/data/han/miniconda3/envs/torch190_geo204/lib/python3.7/site-packages/tqdm/auto.py:22: TqdmWarning: IProgress not found. Please update jupyter and ipywidgets. See https://ipywidgets.readthedocs.io/en/stable/user_install.html\n",
      "  from .autonotebook import tqdm as notebook_tqdm\n"
     ]
    }
   ],
   "source": [
    "import os.path as osp\n",
    "from ogb.nodeproppred import Evaluator, PygNodePropPredDataset\n",
    "import torch\n",
    "import torch.nn.functional as F\n",
    "\n",
    "from tqdm import tqdm\n",
    "\n",
    "from torch_geometric.loader import NeighborSampler\n",
    "from torch_geometric.nn import SAGEConv\n",
    "from torch.nn import Linear\n",
    "from typing import Tuple, Union\n",
    "\n",
    "import torch.nn.functional as F\n",
    "from torch import Tensor\n",
    "from torch_geometric.nn.dense.linear import Linear\n",
    "from torch_geometric.typing import Adj, OptPairTensor, Size\n",
    "import torch.utils.data as data_utils"
   ]
  },
  {
   "cell_type": "code",
   "execution_count": 3,
   "metadata": {},
   "outputs": [
    {
     "name": "stdout",
     "output_type": "stream",
     "text": [
      "data.x.shape: torch.Size([2449029, 100])\n",
      "data.y.shape: torch.Size([2449029, 1])\n",
      "data.x.type: torch.float32\n",
      "data.y.type: torch.int64\n",
      "X_train.shape: torch.Size([196615, 100])\n",
      "y_train.shape: torch.Size([196615])\n",
      "data.y.type: torch.int64\n"
     ]
    }
   ],
   "source": [
    "dataset_name = \"ogbn-products\"\n",
    "dataset_dir = \"./data\"\n",
    "\n",
    "# \n",
    "\n",
    "device = torch.device('cuda' if torch.cuda.is_available() else 'cpu')\n",
    "root = osp.join( dataset_dir, dataset_name)\n",
    "\n",
    "dataset = PygNodePropPredDataset(dataset_name, root)\n",
    "split_idx = dataset.get_idx_split()\n",
    "evaluator = Evaluator(name=dataset_name)\n",
    "data = dataset[0]\n",
    "train_idx = split_idx['train']\n",
    "\n",
    "X_train = data.x[ split_idx[\"train\"] ]\n",
    "y_train = data.y[ split_idx[\"train\"] ].reshape(-1).type(torch.long)\n",
    "\n",
    "\n",
    "x = data.x\n",
    "y = data.y.squeeze()\n",
    "\n",
    "\n",
    "\n",
    "print( \"data.x.shape:\", data.x.shape )\n",
    "print( \"data.y.shape:\", data.y.shape )\n",
    "print( \"data.x.type:\", x.dtype )\n",
    "print( \"data.y.type:\", y.dtype )\n",
    "print( \"X_train.shape:\", X_train.shape )\n",
    "print( \"y_train.shape:\", y_train.shape )\n",
    "\n",
    "\n",
    "y = data.y.squeeze().type(torch.long)\n",
    "print( \"data.y.type:\", y.dtype )\n",
    "\n",
    "\n",
    "X_y_train_mlpinit = data_utils.TensorDataset(X_train, y_train)\n",
    "X_y_all_mlpinit = data_utils.TensorDataset(x, y)\n",
    "\n",
    "train_mlpinit_loader = data_utils.DataLoader(X_y_train_mlpinit, batch_size=4096, shuffle=True, num_workers=4)\n",
    "all_mlpinit_loader = data_utils.DataLoader(X_y_all_mlpinit, batch_size=4096, shuffle=False, num_workers=4)\n",
    "\n",
    "\n",
    "class SAGEConv_like_MLP(torch.nn.Module):\n",
    "   \n",
    "    def __init__(self, in_channels: Union[int, Tuple[int, int]],\n",
    "                 out_channels: int, normalize: bool = False,\n",
    "                 root_weight: bool = True, bias: bool = True, **kwargs):\n",
    "        # kwargs.setdefault('aggr', 'mean')\n",
    "        super().__init__(**kwargs)\n",
    "\n",
    "        self.in_channels = in_channels\n",
    "        self.out_channels = out_channels\n",
    "        self.normalize = normalize\n",
    "        self.root_weight = root_weight\n",
    "\n",
    "        if isinstance(in_channels, int):\n",
    "            in_channels = (in_channels, in_channels)\n",
    "\n",
    "        self.lin_l = Linear(in_channels[0], out_channels, bias=bias)\n",
    "        if self.root_weight:\n",
    "            self.lin_r = Linear(in_channels[1], out_channels, bias=False)\n",
    "\n",
    "        self.reset_parameters()\n",
    "\n",
    "    def reset_parameters(self):\n",
    "        self.lin_l.reset_parameters()\n",
    "        if self.root_weight:\n",
    "            self.lin_r.reset_parameters()\n",
    "\n",
    "\n",
    "    def forward(self, x: Union[Tensor, OptPairTensor]) -> Tensor:\n",
    "        \"\"\"\"\"\"\n",
    "        if isinstance(x, Tensor):\n",
    "            x: OptPairTensor = (x, x)\n",
    "\n",
    "        out = x[1]\n",
    "        out = self.lin_l(out)\n",
    "\n",
    "        x_r = x[1]\n",
    "        if self.root_weight and x_r is not None:\n",
    "            out += self.lin_r(x_r)\n",
    "\n",
    "        if self.normalize:\n",
    "            out = F.normalize(out, p=2., dim=-1)\n",
    "\n",
    "        return out\n",
    "\n",
    "\n",
    "\n",
    "class MLP(torch.nn.Module):\n",
    "    def __init__(self, in_channels, hidden_channels, out_channels, num_layers):\n",
    "        super().__init__()\n",
    "\n",
    "        self.num_layers = num_layers\n",
    "\n",
    "        self.convs = torch.nn.ModuleList()\n",
    "        self.convs.append(SAGEConv_like_MLP(in_channels, hidden_channels))\n",
    "        for _ in range(num_layers - 2):\n",
    "            self.convs.append(SAGEConv_like_MLP(hidden_channels, hidden_channels))\n",
    "        self.convs.append(SAGEConv_like_MLP(hidden_channels, out_channels))\n",
    "\n",
    "    def reset_parameters(self):\n",
    "        for conv in self.convs:\n",
    "            conv.reset_parameters()\n",
    "\n",
    "    def forward(self, x):\n",
    "        for i in range(self.num_layers):\n",
    "            x_target = x\n",
    "            x = self.convs[i]((x, x_target))\n",
    "            if i != self.num_layers - 1:\n",
    "                x = F.relu(x)\n",
    "                x = F.dropout(x, p=0.5, training=self.training)\n",
    "        return x.log_softmax(dim=-1)\n",
    "\n",
    "\n",
    "\n",
    "\n",
    "class SAGE(torch.nn.Module):\n",
    "    def __init__(self, in_channels, hidden_channels, out_channels, num_layers):\n",
    "        super().__init__()\n",
    "\n",
    "        self.num_layers = num_layers\n",
    "\n",
    "        self.convs = torch.nn.ModuleList()\n",
    "        self.convs.append(SAGEConv(in_channels, hidden_channels))\n",
    "        for _ in range(num_layers - 2):\n",
    "            self.convs.append(SAGEConv(hidden_channels, hidden_channels))\n",
    "        self.convs.append(SAGEConv(hidden_channels, out_channels))\n",
    "\n",
    "    def reset_parameters(self):\n",
    "        for conv in self.convs:\n",
    "            conv.reset_parameters()\n",
    "\n",
    "    def forward(self, x, adjs):\n",
    "        # `train_loader` computes the k-hop neighborhood of a batch of nodes,\n",
    "        # and returns, for each layer, a bipartite graph object, holding the\n",
    "        # bipartite edges `edge_index`, the index `e_id` of the original edges,\n",
    "        # and the size/shape `size` of the bipartite graph.\n",
    "        # Target nodes are also included in the source nodes so that one can\n",
    "        # easily apply skip-connections or add self-loops.\n",
    "        for i, (edge_index, _, size) in enumerate(adjs):\n",
    "            x_target = x[:size[1]]  # Target nodes are always placed first.\n",
    "            x = self.convs[i]((x, x_target), edge_index)\n",
    "            if i != self.num_layers - 1:\n",
    "                x = F.relu(x)\n",
    "                x = F.dropout(x, p=0.5, training=self.training)\n",
    "        return x.log_softmax(dim=-1)\n",
    "\n",
    "\n",
    "\n",
    "    def inference(self, x_all):\n",
    "        pbar = tqdm(total=x_all.size(0) * self.num_layers)\n",
    "        pbar.set_description('Evaluating')\n",
    "\n",
    "        # Compute representations of nodes layer by layer, using *all*\n",
    "        # available edges. This leads to faster computation in contrast to\n",
    "        # immediately computing the final representations of each batch.\n",
    "        total_edges = 0\n",
    "        for i in range(self.num_layers):\n",
    "            xs = []\n",
    "            for batch_size, n_id, adj in subgraph_loader:\n",
    "                edge_index, _, size = adj.to(device)\n",
    "                total_edges += edge_index.size(1)\n",
    "                x = x_all[n_id].to(device)\n",
    "                x_target = x[:size[1]]\n",
    "                x = self.convs[i]((x, x_target), edge_index)\n",
    "                if i != self.num_layers - 1:\n",
    "                    x = F.relu(x)\n",
    "                xs.append(x.cpu())\n",
    "\n",
    "                pbar.update(batch_size)\n",
    "\n",
    "            x_all = torch.cat(xs, dim=0)\n",
    "\n",
    "        pbar.close()\n",
    "\n",
    "        return x_all\n",
    "\n",
    "\n",
    "\n",
    "model_mlpinit = MLP(dataset.num_features, 512, dataset.num_classes, num_layers=4)\n",
    "model_mlpinit = model_mlpinit.to(device)\n",
    "optimizer_model_mlpinit = torch.optim.Adam(model_mlpinit.parameters(), lr=0.001, weight_decay = 0.0)\n",
    "\n"
   ]
  },
  {
   "cell_type": "code",
   "execution_count": 4,
   "metadata": {},
   "outputs": [],
   "source": [
    "def train_mlpinit():\n",
    "    model_mlpinit.train()\n",
    "    total_loss = total_correct = 0\n",
    "\n",
    "    for x, y in train_mlpinit_loader:\n",
    "\n",
    "        x = x.to( device )\n",
    "        y = y.to( device )\n",
    "\n",
    "        optimizer_model_mlpinit.zero_grad()\n",
    "        out = model_mlpinit(x)\n",
    "        loss = F.nll_loss(out, y)\n",
    "        loss.backward()\n",
    "        optimizer_model_mlpinit.step()\n",
    "\n",
    "        total_loss += float(loss)\n",
    "\n",
    "    loss = total_loss / len(train_mlpinit_loader)\n",
    "    approx_acc = total_correct / train_idx.size(0)\n",
    "\n",
    "    return loss, approx_acc\n",
    "\n",
    "\n",
    "@torch.no_grad()\n",
    "def test_mlpinit():\n",
    "    model_mlpinit.eval()\n",
    "\n",
    "    out_list = []\n",
    "    y_list = []\n",
    "\n",
    "    for x, y in  all_mlpinit_loader:\n",
    "        x = x.to( device )\n",
    "        y = y.to( device )\n",
    "        out = model_mlpinit(x)\n",
    "        out_list.append( out )\n",
    "        y_list.append( y )\n",
    "\n",
    "\n",
    "    out = torch.cat(out_list, dim=0)\n",
    "    y_true = torch.cat(y_list, dim=0).cpu().unsqueeze(-1)\n",
    "\n",
    "\n",
    "    y_pred = out.argmax(dim=-1, keepdim=True)\n",
    "\n",
    "    train_acc = evaluator.eval({\n",
    "        'y_true': y_true[split_idx['train']],\n",
    "        'y_pred': y_pred[split_idx['train']],\n",
    "    })['acc']\n",
    "    val_acc = evaluator.eval({\n",
    "        'y_true': y_true[split_idx['valid']],\n",
    "        'y_pred': y_pred[split_idx['valid']],\n",
    "    })['acc']\n",
    "    test_acc = evaluator.eval({\n",
    "        'y_true': y_true[split_idx['test']],\n",
    "        'y_pred': y_pred[split_idx['test']],\n",
    "    })['acc']\n",
    "\n",
    "    return train_acc, val_acc, test_acc\n",
    "\n",
    "\n",
    "\n",
    "train_loader = NeighborSampler(data.edge_index, node_idx=train_idx,\n",
    "                               sizes=[25, 10, 5, 5], batch_size=1024,\n",
    "                               shuffle=True, num_workers=12)\n",
    "subgraph_loader = NeighborSampler(data.edge_index, node_idx=None, sizes=[-1],\n",
    "                                  batch_size=4096, shuffle=False,\n",
    "                                  num_workers=12)\n",
    "\n",
    "\n",
    "model = SAGE(dataset.num_features, 512, dataset.num_classes, num_layers=4)\n",
    "model = model.to(device)\n",
    "\n",
    "\n",
    "\n",
    "def train(epoch):\n",
    "    model.train()\n",
    "\n",
    "    pbar = tqdm(total=train_idx.size(0))\n",
    "    pbar.set_description(f'Epoch {epoch:02d}')\n",
    "\n",
    "    total_loss = total_correct = 0\n",
    "\n",
    "    for batch_size, n_id, adjs in train_loader:\n",
    "        # `adjs` holds a list of `(edge_index, e_id, size)` tuples.\n",
    "        adjs = [adj.to(device) for adj in adjs]\n",
    "\n",
    "        optimizer.zero_grad()\n",
    "\n",
    "        out = model(x[n_id].to(device), adjs)\n",
    "        loss = F.nll_loss( out, y[n_id[:batch_size]].to(device) )\n",
    "        loss.backward()\n",
    "        optimizer.step()\n",
    "\n",
    "        total_loss += float(loss)\n",
    "        total_correct += int(out.argmax(dim=-1).eq( y[n_id[:batch_size]].to(device) ).sum())\n",
    "        pbar.update(batch_size)\n",
    "\n",
    "    pbar.close()\n",
    "\n",
    "    loss = total_loss / len(train_loader)\n",
    "    approx_acc = total_correct / train_idx.size(0)\n",
    "\n",
    "    return loss, approx_acc\n",
    "\n",
    "\n",
    "\n",
    "\n",
    "@torch.no_grad()\n",
    "def test():\n",
    "    model.eval()\n",
    "\n",
    "    out = model.inference(x)\n",
    "\n",
    "    y_true = y.cpu().unsqueeze(-1)\n",
    "    y_pred = out.argmax(dim=-1, keepdim=True)\n",
    "\n",
    "    train_acc = evaluator.eval({\n",
    "        'y_true': y_true[split_idx['train']],\n",
    "        'y_pred': y_pred[split_idx['train']],\n",
    "    })['acc']\n",
    "    val_acc = evaluator.eval({\n",
    "        'y_true': y_true[split_idx['valid']],\n",
    "        'y_pred': y_pred[split_idx['valid']],\n",
    "    })['acc']\n",
    "    test_acc = evaluator.eval({\n",
    "        'y_true': y_true[split_idx['test']],\n",
    "        'y_pred': y_pred[split_idx['test']],\n",
    "    })['acc']\n",
    "\n",
    "    return train_acc, val_acc, test_acc\n",
    "\n",
    "\n"
   ]
  },
  {
   "cell_type": "code",
   "execution_count": 5,
   "metadata": {},
   "outputs": [
    {
     "name": "stderr",
     "output_type": "stream",
     "text": [
      "Epoch 01: 100%|██████████| 196615/196615 [01:33<00:00, 2105.53it/s]\n",
      "Evaluating: 100%|██████████| 9796116/9796116 [02:53<00:00, 56523.84it/s] \n"
     ]
    },
    {
     "name": "stdout",
     "output_type": "stream",
     "text": [
      "Epoch 01, Train: 0.8784, Val: 0.8723, Test: 0.7087\n"
     ]
    },
    {
     "name": "stderr",
     "output_type": "stream",
     "text": [
      "Epoch 02: 100%|██████████| 196615/196615 [01:32<00:00, 2122.68it/s]\n",
      "Evaluating: 100%|██████████| 9796116/9796116 [02:59<00:00, 54590.62it/s] \n"
     ]
    },
    {
     "name": "stdout",
     "output_type": "stream",
     "text": [
      "Epoch 02, Train: 0.8974, Val: 0.8933, Test: 0.7504\n"
     ]
    },
    {
     "name": "stderr",
     "output_type": "stream",
     "text": [
      "Epoch 03: 100%|██████████| 196615/196615 [01:23<00:00, 2357.99it/s]\n",
      "Evaluating: 100%|██████████| 9796116/9796116 [02:52<00:00, 56726.35it/s] \n"
     ]
    },
    {
     "name": "stdout",
     "output_type": "stream",
     "text": [
      "Epoch 03, Train: 0.9155, Val: 0.9066, Test: 0.7638\n"
     ]
    },
    {
     "name": "stderr",
     "output_type": "stream",
     "text": [
      "Epoch 04: 100%|██████████| 196615/196615 [01:26<00:00, 2282.36it/s]\n",
      "Evaluating: 100%|██████████| 9796116/9796116 [02:57<00:00, 55282.10it/s] \n"
     ]
    },
    {
     "name": "stdout",
     "output_type": "stream",
     "text": [
      "Epoch 04, Train: 0.9118, Val: 0.9056, Test: 0.7777\n"
     ]
    },
    {
     "name": "stderr",
     "output_type": "stream",
     "text": [
      "Epoch 05: 100%|██████████| 196615/196615 [01:24<00:00, 2324.60it/s]\n",
      "Evaluating: 100%|██████████| 9796116/9796116 [02:48<00:00, 58130.96it/s] \n"
     ]
    },
    {
     "name": "stdout",
     "output_type": "stream",
     "text": [
      "Epoch 05, Train: 0.9244, Val: 0.9148, Test: 0.7963\n"
     ]
    },
    {
     "name": "stderr",
     "output_type": "stream",
     "text": [
      "Epoch 06: 100%|██████████| 196615/196615 [01:21<00:00, 2417.86it/s]\n",
      "Evaluating: 100%|██████████| 9796116/9796116 [02:59<00:00, 54566.47it/s] \n"
     ]
    },
    {
     "name": "stdout",
     "output_type": "stream",
     "text": [
      "Epoch 06, Train: 0.9171, Val: 0.9066, Test: 0.7869\n"
     ]
    },
    {
     "name": "stderr",
     "output_type": "stream",
     "text": [
      "Epoch 07: 100%|██████████| 196615/196615 [01:24<00:00, 2324.60it/s]\n",
      "Evaluating: 100%|██████████| 9796116/9796116 [02:52<00:00, 56882.42it/s] \n"
     ]
    },
    {
     "name": "stdout",
     "output_type": "stream",
     "text": [
      "Epoch 07, Train: 0.9196, Val: 0.9104, Test: 0.7766\n"
     ]
    },
    {
     "name": "stderr",
     "output_type": "stream",
     "text": [
      "Epoch 08: 100%|██████████| 196615/196615 [01:25<00:00, 2294.51it/s]\n",
      "Evaluating: 100%|██████████| 9796116/9796116 [02:56<00:00, 55524.60it/s] \n"
     ]
    },
    {
     "name": "stdout",
     "output_type": "stream",
     "text": [
      "Epoch 08, Train: 0.9242, Val: 0.9116, Test: 0.7891\n"
     ]
    },
    {
     "name": "stderr",
     "output_type": "stream",
     "text": [
      "Epoch 09: 100%|██████████| 196615/196615 [01:28<00:00, 2212.64it/s]\n",
      "Evaluating: 100%|██████████| 9796116/9796116 [03:05<00:00, 52761.20it/s] \n"
     ]
    },
    {
     "name": "stdout",
     "output_type": "stream",
     "text": [
      "Epoch 09, Train: 0.9292, Val: 0.9191, Test: 0.7985\n"
     ]
    },
    {
     "name": "stderr",
     "output_type": "stream",
     "text": [
      "Epoch 10: 100%|██████████| 196615/196615 [01:32<00:00, 2126.47it/s]\n",
      "Evaluating: 100%|██████████| 9796116/9796116 [03:00<00:00, 54274.18it/s] \n"
     ]
    },
    {
     "name": "stdout",
     "output_type": "stream",
     "text": [
      "Epoch 10, Train: 0.9285, Val: 0.9138, Test: 0.8026\n"
     ]
    },
    {
     "name": "stderr",
     "output_type": "stream",
     "text": [
      "Epoch 11: 100%|██████████| 196615/196615 [01:21<00:00, 2416.86it/s]\n",
      "Evaluating: 100%|██████████| 9796116/9796116 [03:01<00:00, 54092.61it/s] \n"
     ]
    },
    {
     "name": "stdout",
     "output_type": "stream",
     "text": [
      "Epoch 11, Train: 0.9250, Val: 0.9105, Test: 0.7963\n"
     ]
    },
    {
     "name": "stderr",
     "output_type": "stream",
     "text": [
      "Epoch 12: 100%|██████████| 196615/196615 [01:28<00:00, 2223.56it/s]\n",
      "Evaluating: 100%|██████████| 9796116/9796116 [02:56<00:00, 55489.05it/s] \n"
     ]
    },
    {
     "name": "stdout",
     "output_type": "stream",
     "text": [
      "Epoch 12, Train: 0.9344, Val: 0.9170, Test: 0.7900\n"
     ]
    },
    {
     "name": "stderr",
     "output_type": "stream",
     "text": [
      "Epoch 13: 100%|██████████| 196615/196615 [01:21<00:00, 2413.88it/s]\n",
      "Evaluating: 100%|██████████| 9796116/9796116 [02:58<00:00, 55011.76it/s] \n"
     ]
    },
    {
     "name": "stdout",
     "output_type": "stream",
     "text": [
      "Epoch 13, Train: 0.9380, Val: 0.9236, Test: 0.8037\n"
     ]
    },
    {
     "name": "stderr",
     "output_type": "stream",
     "text": [
      "Epoch 14: 100%|██████████| 196615/196615 [01:24<00:00, 2324.59it/s]\n",
      "Evaluating: 100%|██████████| 9796116/9796116 [03:17<00:00, 49701.86it/s]\n"
     ]
    },
    {
     "name": "stdout",
     "output_type": "stream",
     "text": [
      "Epoch 14, Train: 0.9397, Val: 0.9239, Test: 0.8042\n"
     ]
    },
    {
     "name": "stderr",
     "output_type": "stream",
     "text": [
      "Epoch 15: 100%|██████████| 196615/196615 [01:27<00:00, 2249.69it/s]\n",
      "Evaluating: 100%|██████████| 9796116/9796116 [03:10<00:00, 51496.22it/s] \n"
     ]
    },
    {
     "name": "stdout",
     "output_type": "stream",
     "text": [
      "Epoch 15, Train: 0.9284, Val: 0.9134, Test: 0.7953\n"
     ]
    },
    {
     "name": "stderr",
     "output_type": "stream",
     "text": [
      "Epoch 16: 100%|██████████| 196615/196615 [01:23<00:00, 2351.22it/s]\n",
      "Evaluating: 100%|██████████| 9796116/9796116 [02:56<00:00, 55655.17it/s] \n"
     ]
    },
    {
     "name": "stdout",
     "output_type": "stream",
     "text": [
      "Epoch 16, Train: 0.9415, Val: 0.9228, Test: 0.8065\n"
     ]
    },
    {
     "name": "stderr",
     "output_type": "stream",
     "text": [
      "Epoch 17: 100%|██████████| 196615/196615 [01:28<00:00, 2217.58it/s]\n",
      "Evaluating: 100%|██████████| 9796116/9796116 [03:16<00:00, 49972.95it/s] \n"
     ]
    },
    {
     "name": "stdout",
     "output_type": "stream",
     "text": [
      "Epoch 17, Train: 0.9344, Val: 0.9180, Test: 0.7988\n"
     ]
    },
    {
     "name": "stderr",
     "output_type": "stream",
     "text": [
      "Epoch 18: 100%|██████████| 196615/196615 [01:27<00:00, 2250.13it/s]\n",
      "Evaluating: 100%|██████████| 9796116/9796116 [03:05<00:00, 52801.84it/s] \n"
     ]
    },
    {
     "name": "stdout",
     "output_type": "stream",
     "text": [
      "Epoch 18, Train: 0.9414, Val: 0.9236, Test: 0.8124\n"
     ]
    },
    {
     "name": "stderr",
     "output_type": "stream",
     "text": [
      "Epoch 19: 100%|██████████| 196615/196615 [01:26<00:00, 2268.94it/s]\n",
      "Evaluating: 100%|██████████| 9796116/9796116 [03:07<00:00, 52278.33it/s] \n"
     ]
    },
    {
     "name": "stdout",
     "output_type": "stream",
     "text": [
      "Epoch 19, Train: 0.9434, Val: 0.9257, Test: 0.8062\n"
     ]
    },
    {
     "name": "stderr",
     "output_type": "stream",
     "text": [
      "Epoch 20: 100%|██████████| 196615/196615 [01:25<00:00, 2306.42it/s]\n",
      "Evaluating: 100%|██████████| 9796116/9796116 [03:22<00:00, 48440.16it/s] \n"
     ]
    },
    {
     "name": "stdout",
     "output_type": "stream",
     "text": [
      "Epoch 20, Train: 0.9172, Val: 0.8946, Test: 0.7768\n"
     ]
    }
   ],
   "source": [
    "random_losses = []\n",
    "random_test_accs = []\n",
    "\n",
    "model.reset_parameters()\n",
    "\n",
    "optimizer = torch.optim.Adam(model.parameters(), lr=0.001, weight_decay = 0.0)\n",
    "\n",
    "best_val_acc = final_test_acc = 0\n",
    "for epoch in range(1, 21):\n",
    "    loss, acc = train(epoch)\n",
    "    train_acc, val_acc, test_acc = test()\n",
    "    print(f'Epoch {epoch:02d}, Train: {train_acc:.4f}, Val: {val_acc:.4f}, 'f'Test: {test_acc:.4f}')\n",
    "    \n",
    "    random_losses.append(loss)\n",
    "    random_test_accs.append(test_acc)"
   ]
  },
  {
   "cell_type": "code",
   "execution_count": 6,
   "metadata": {},
   "outputs": [
    {
     "name": "stdout",
     "output_type": "stream",
     "text": [
      "train_acc_init, val_acc_init, test_acc_init: 0.7768684993515246 0.7464079546321492 0.6032065558985148\n"
     ]
    }
   ],
   "source": [
    "model_mlpinit.reset_parameters()\n",
    "\n",
    "for epoch in range(1, 20):\n",
    "    loss, acc = train_mlpinit()\n",
    "    \n",
    "torch.save(model_mlpinit.state_dict(), f'./model_mlpinit.pt' )\n",
    "train_acc_init, val_acc_init, test_acc_init = test_mlpinit()\n",
    "print(  \"train_acc_init, val_acc_init, test_acc_init:\", train_acc_init, val_acc_init, test_acc_init )\n"
   ]
  },
  {
   "cell_type": "code",
   "execution_count": 7,
   "metadata": {},
   "outputs": [
    {
     "name": "stderr",
     "output_type": "stream",
     "text": [
      "Epoch 01: 100%|██████████| 196615/196615 [01:26<00:00, 2265.49it/s]\n",
      "Evaluating: 100%|██████████| 9796116/9796116 [02:59<00:00, 54631.37it/s] \n"
     ]
    },
    {
     "name": "stdout",
     "output_type": "stream",
     "text": [
      "Epoch 01, Train: 0.9170, Val: 0.9075, Test: 0.7771\n"
     ]
    },
    {
     "name": "stderr",
     "output_type": "stream",
     "text": [
      "Epoch 02: 100%|██████████| 196615/196615 [01:22<00:00, 2385.20it/s]\n",
      "Evaluating: 100%|██████████| 9796116/9796116 [03:03<00:00, 53421.86it/s] \n"
     ]
    },
    {
     "name": "stdout",
     "output_type": "stream",
     "text": [
      "Epoch 02, Train: 0.9240, Val: 0.9122, Test: 0.7858\n"
     ]
    },
    {
     "name": "stderr",
     "output_type": "stream",
     "text": [
      "Epoch 03: 100%|██████████| 196615/196615 [01:25<00:00, 2290.63it/s]\n",
      "Evaluating: 100%|██████████| 9796116/9796116 [02:53<00:00, 56556.11it/s] \n"
     ]
    },
    {
     "name": "stdout",
     "output_type": "stream",
     "text": [
      "Epoch 03, Train: 0.9303, Val: 0.9173, Test: 0.7967\n"
     ]
    },
    {
     "name": "stderr",
     "output_type": "stream",
     "text": [
      "Epoch 04: 100%|██████████| 196615/196615 [01:25<00:00, 2303.70it/s]\n",
      "Evaluating: 100%|██████████| 9796116/9796116 [02:59<00:00, 54456.88it/s] \n"
     ]
    },
    {
     "name": "stdout",
     "output_type": "stream",
     "text": [
      "Epoch 04, Train: 0.9328, Val: 0.9187, Test: 0.7993\n"
     ]
    },
    {
     "name": "stderr",
     "output_type": "stream",
     "text": [
      "Epoch 05: 100%|██████████| 196615/196615 [01:29<00:00, 2192.36it/s]\n",
      "Evaluating: 100%|██████████| 9796116/9796116 [02:52<00:00, 56741.49it/s] \n"
     ]
    },
    {
     "name": "stdout",
     "output_type": "stream",
     "text": [
      "Epoch 05, Train: 0.9316, Val: 0.9187, Test: 0.7950\n"
     ]
    },
    {
     "name": "stderr",
     "output_type": "stream",
     "text": [
      "Epoch 06: 100%|██████████| 196615/196615 [01:22<00:00, 2397.23it/s]\n",
      "Evaluating: 100%|██████████| 9796116/9796116 [02:57<00:00, 55261.36it/s] \n"
     ]
    },
    {
     "name": "stdout",
     "output_type": "stream",
     "text": [
      "Epoch 06, Train: 0.9342, Val: 0.9210, Test: 0.7995\n"
     ]
    },
    {
     "name": "stderr",
     "output_type": "stream",
     "text": [
      "Epoch 07: 100%|██████████| 196615/196615 [01:28<00:00, 2216.11it/s]\n",
      "Evaluating: 100%|██████████| 9796116/9796116 [02:57<00:00, 55204.87it/s] \n"
     ]
    },
    {
     "name": "stdout",
     "output_type": "stream",
     "text": [
      "Epoch 07, Train: 0.9395, Val: 0.9225, Test: 0.8026\n"
     ]
    },
    {
     "name": "stderr",
     "output_type": "stream",
     "text": [
      "Epoch 08: 100%|██████████| 196615/196615 [01:28<00:00, 2217.35it/s]\n",
      "Evaluating: 100%|██████████| 9796116/9796116 [02:55<00:00, 55740.37it/s] \n"
     ]
    },
    {
     "name": "stdout",
     "output_type": "stream",
     "text": [
      "Epoch 08, Train: 0.9395, Val: 0.9226, Test: 0.7996\n"
     ]
    },
    {
     "name": "stderr",
     "output_type": "stream",
     "text": [
      "Epoch 09: 100%|██████████| 196615/196615 [01:27<00:00, 2259.50it/s]\n",
      "Evaluating: 100%|██████████| 9796116/9796116 [02:53<00:00, 56433.61it/s] \n"
     ]
    },
    {
     "name": "stdout",
     "output_type": "stream",
     "text": [
      "Epoch 09, Train: 0.9415, Val: 0.9233, Test: 0.8052\n"
     ]
    },
    {
     "name": "stderr",
     "output_type": "stream",
     "text": [
      "Epoch 10: 100%|██████████| 196615/196615 [01:28<00:00, 2210.09it/s]\n",
      "Evaluating: 100%|██████████| 9796116/9796116 [03:03<00:00, 53525.82it/s] \n"
     ]
    },
    {
     "name": "stdout",
     "output_type": "stream",
     "text": [
      "Epoch 10, Train: 0.9420, Val: 0.9227, Test: 0.8096\n"
     ]
    },
    {
     "name": "stderr",
     "output_type": "stream",
     "text": [
      "Epoch 11: 100%|██████████| 196615/196615 [01:27<00:00, 2250.85it/s]\n",
      "Evaluating: 100%|██████████| 9796116/9796116 [02:43<00:00, 59794.66it/s] \n"
     ]
    },
    {
     "name": "stdout",
     "output_type": "stream",
     "text": [
      "Epoch 11, Train: 0.9428, Val: 0.9232, Test: 0.8030\n"
     ]
    },
    {
     "name": "stderr",
     "output_type": "stream",
     "text": [
      "Epoch 12: 100%|██████████| 196615/196615 [01:25<00:00, 2309.67it/s]\n",
      "Evaluating: 100%|██████████| 9796116/9796116 [03:11<00:00, 51022.47it/s] \n"
     ]
    },
    {
     "name": "stdout",
     "output_type": "stream",
     "text": [
      "Epoch 12, Train: 0.9358, Val: 0.9182, Test: 0.8058\n"
     ]
    },
    {
     "name": "stderr",
     "output_type": "stream",
     "text": [
      "Epoch 13: 100%|██████████| 196615/196615 [01:27<00:00, 2237.43it/s]\n",
      "Evaluating: 100%|██████████| 9796116/9796116 [02:55<00:00, 55916.25it/s] \n"
     ]
    },
    {
     "name": "stdout",
     "output_type": "stream",
     "text": [
      "Epoch 13, Train: 0.9442, Val: 0.9252, Test: 0.8004\n"
     ]
    },
    {
     "name": "stderr",
     "output_type": "stream",
     "text": [
      "Epoch 14: 100%|██████████| 196615/196615 [01:27<00:00, 2235.32it/s]\n",
      "Evaluating: 100%|██████████| 9796116/9796116 [03:04<00:00, 53137.93it/s] \n"
     ]
    },
    {
     "name": "stdout",
     "output_type": "stream",
     "text": [
      "Epoch 14, Train: 0.9405, Val: 0.9199, Test: 0.7950\n"
     ]
    },
    {
     "name": "stderr",
     "output_type": "stream",
     "text": [
      "Epoch 15: 100%|██████████| 196615/196615 [01:28<00:00, 2213.06it/s]\n",
      "Evaluating: 100%|██████████| 9796116/9796116 [03:00<00:00, 54348.72it/s] \n"
     ]
    },
    {
     "name": "stdout",
     "output_type": "stream",
     "text": [
      "Epoch 15, Train: 0.9455, Val: 0.9257, Test: 0.7998\n"
     ]
    },
    {
     "name": "stderr",
     "output_type": "stream",
     "text": [
      "Epoch 16: 100%|██████████| 196615/196615 [01:26<00:00, 2286.02it/s]\n",
      "Evaluating: 100%|██████████| 9796116/9796116 [03:12<00:00, 50844.19it/s] \n"
     ]
    },
    {
     "name": "stdout",
     "output_type": "stream",
     "text": [
      "Epoch 16, Train: 0.9473, Val: 0.9264, Test: 0.8053\n"
     ]
    },
    {
     "name": "stderr",
     "output_type": "stream",
     "text": [
      "Epoch 17: 100%|██████████| 196615/196615 [01:23<00:00, 2353.65it/s]\n",
      "Evaluating: 100%|██████████| 9796116/9796116 [02:53<00:00, 56499.60it/s] \n"
     ]
    },
    {
     "name": "stdout",
     "output_type": "stream",
     "text": [
      "Epoch 17, Train: 0.9464, Val: 0.9252, Test: 0.8066\n"
     ]
    },
    {
     "name": "stderr",
     "output_type": "stream",
     "text": [
      "Epoch 18: 100%|██████████| 196615/196615 [01:21<00:00, 2422.94it/s]\n",
      "Evaluating: 100%|██████████| 9796116/9796116 [02:52<00:00, 56785.00it/s] \n"
     ]
    },
    {
     "name": "stdout",
     "output_type": "stream",
     "text": [
      "Epoch 18, Train: 0.9467, Val: 0.9251, Test: 0.8010\n"
     ]
    },
    {
     "name": "stderr",
     "output_type": "stream",
     "text": [
      "Epoch 19: 100%|██████████| 196615/196615 [01:21<00:00, 2397.75it/s]\n",
      "Evaluating: 100%|██████████| 9796116/9796116 [03:02<00:00, 53705.21it/s] \n"
     ]
    },
    {
     "name": "stdout",
     "output_type": "stream",
     "text": [
      "Epoch 19, Train: 0.9494, Val: 0.9264, Test: 0.8066\n"
     ]
    },
    {
     "name": "stderr",
     "output_type": "stream",
     "text": [
      "Epoch 20: 100%|██████████| 196615/196615 [01:27<00:00, 2247.66it/s]\n",
      "Evaluating: 100%|██████████| 9796116/9796116 [03:04<00:00, 53114.72it/s] \n"
     ]
    },
    {
     "name": "stdout",
     "output_type": "stream",
     "text": [
      "Epoch 20, Train: 0.9456, Val: 0.9252, Test: 0.8020\n"
     ]
    }
   ],
   "source": [
    "mlpinit_losses = []\n",
    "mlpinit_test_accs = []\n",
    "\n",
    "model.load_state_dict(torch.load( f'./model_mlpinit.pt'  ))\n",
    "\n",
    "optimizer = torch.optim.Adam(model.parameters(), lr=0.001, weight_decay = 0.0)\n",
    "\n",
    "best_val_acc = final_test_acc = 0\n",
    "for epoch in range(1, 21):\n",
    "    loss, acc = train(epoch)\n",
    "    train_acc, val_acc, test_acc = test()\n",
    "    print(f'Epoch {epoch:02d}, Train: {train_acc:.4f}, Val: {val_acc:.4f}, 'f'Test: {test_acc:.4f}')\n",
    "    \n",
    "    mlpinit_losses.append(loss)\n",
    "    mlpinit_test_accs.append(test_acc)\n"
   ]
  },
  {
   "cell_type": "code",
   "execution_count": null,
   "metadata": {},
   "outputs": [],
   "source": []
  },
  {
   "cell_type": "code",
   "execution_count": 8,
   "metadata": {},
   "outputs": [
    {
     "data": {
      "image/png": "[encoded data removed]",
      "text/plain": [
       "<Figure size 1000x300 with 2 Axes>"
      ]
     },
     "metadata": {},
     "output_type": "display_data"
    }
   ],
   "source": [
    "import matplotlib.pyplot as plt\n",
    "\n",
    "x=range( 0, 20 )\n",
    "\n",
    "fig, (ax1, ax2) = plt.subplots(1, 2, figsize=(10, 3))\n",
    "\n",
    "ax1.plot(x, random_losses, label='random')\n",
    "ax1.plot(x, mlpinit_losses, label='mlpinit')\n",
    "ax1.set_xlabel('epoch')\n",
    "ax1.set_ylabel('loss')\n",
    "ax1.legend()\n",
    "\n",
    "ax2.plot(x, random_test_accs, label='random')\n",
    "ax2.plot(x, mlpinit_test_accs, label='mlpinit')\n",
    "ax2.set_xlabel('epoch')\n",
    "ax2.set_ylabel('accuracy')\n",
    "ax2.legend()\n",
    "\n",
    "plt.show()"
   ]
  }
 ],
 "metadata": {
  "kernelspec": {
   "display_name": "Python 3.11.2 64-bit",
   "language": "python",
   "name": "python3"
  },
  "language_info": {
   "codemirror_mode": {
    "name": "ipython",
    "version": 3
   },
   "file_extension": ".py",
   "mimetype": "text/x-python",
   "name": "python",
   "nbconvert_exporter": "python",
   "pygments_lexer": "ipython3",
   "version": "3.11.2"
  },
  "orig_nbformat": 4,
  "vscode": {
   "interpreter": {
    "hash": "ead1b95f633dc9c51826328e1846203f51a198c6fb5f2884a80417ba131d4e82"
   }
  }
 },
 "nbformat": 4,
 "nbformat_minor": 2
}
